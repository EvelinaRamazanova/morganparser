{
 "cells": [
  {
   "cell_type": "code",
   "execution_count": 19,
   "metadata": {
    "pycharm": {
     "is_executing": false
    }
   },
   "outputs": [],
   "source": [
    "from pathlib import Path"
   ]
  },
  {
   "cell_type": "code",
   "execution_count": 20,
   "metadata": {
    "pycharm": {
     "is_executing": false
    }
   },
   "outputs": [],
   "source": [
    "from lark import Lark"
   ]
  },
  {
   "cell_type": "code",
   "execution_count": 21,
   "metadata": {
    "pycharm": {
     "is_executing": false
    }
   },
   "outputs": [],
   "source": [
    "from parser.morganparser import ScenarioParser"
   ]
  },
  {
   "cell_type": "code",
   "execution_count": 22,
   "metadata": {
    "pycharm": {
     "is_executing": false
    },
    "tags": []
   },
   "outputs": [],
   "source": [
    "# The Apocalypse riders }:)\n",
    "scparser = ScenarioParser(\"parser/grammars/sc_main.lark\")\n",
    "jsparser = Lark.open(\"parser/grammars/javascript.lark\", parser = \"lalr\", start=\"source_elements\")\n",
    "# needs fixes\n",
    "# patternparser = Lark.open(\"parser/grammars/patterns.lark\", parser = \"lalr\", start=\"pattern\")"
   ]
  },
  {
   "cell_type": "code",
   "execution_count": 23,
   "metadata": {
    "pycharm": {
     "is_executing": false
    }
   },
   "outputs": [],
   "source": [
    "REPOS = [\"../PycharmProjects/mts-bankbot/src\", \"../PycharmProject/bank-common/src\", \"../repos/common/src\"]"
   ]
  },
  {
   "cell_type": "code",
   "execution_count": 24,
   "metadata": {
    "pycharm": {
     "is_executing": false
    }
   },
   "outputs": [],
   "source": [
    "TECHNICAL_SCENARIOS = {\"main.sc\", \"ciVersion.sc\", \"techExceptions.sc\",\n",
    "                       \"requireAll.sc\", \"_specRequireAll.sc\"}\n",
    "\n",
    "TECHNICAL_DIRS = {\"_TEST\", \"scripts\", \"patterns\", \"_library\", \".ipynb_checkpoints\"}"
   ]
  },
  {
   "cell_type": "code",
   "execution_count": 25,
   "metadata": {
    "pycharm": {
     "is_executing": false
    }
   },
   "outputs": [],
   "source": [
    "def get_script(node):\n",
    "    return \"\\n\".join([x.value for x in node.children])"
   ]
  },
  {
   "cell_type": "code",
   "execution_count": 26,
   "metadata": {
    "pycharm": {
     "is_executing": false
    }
   },
   "outputs": [],
   "source": [
    "def print_parser_state(error):\n",
    "    print(error.puppet.parser_state.value_stack)\n",
    "    return False"
   ]
  },
  {
   "cell_type": "code",
   "execution_count": 27,
   "metadata": {
    "pycharm": {
     "is_executing": false
    }
   },
   "outputs": [
    {
     "traceback": [
      "\u001b[0;31m---------------------------------------------------------------------------\u001b[0m",
      "\u001b[0;31mAttributeError\u001b[0m                            Traceback (most recent call last)",
      "\u001b[0;32m<ipython-input-27-27a48dbbc803>\u001b[0m in \u001b[0;36m<module>\u001b[0;34m\u001b[0m\n\u001b[0;32m----> 1\u001b[0;31m \u001b[0mpattern\u001b[0m\u001b[0;34m.\u001b[0m\u001b[0mchildren\u001b[0m\u001b[0;34m[\u001b[0m\u001b[0;36m0\u001b[0m\u001b[0;34m]\u001b[0m\u001b[0;34m.\u001b[0m\u001b[0mvalue\u001b[0m\u001b[0;34m\u001b[0m\u001b[0;34m\u001b[0m\u001b[0m\n\u001b[0m\u001b[1;32m      2\u001b[0m \u001b[0;34m\u001b[0m\u001b[0m\n",
      "\u001b[0;31mAttributeError\u001b[0m: 're.Pattern' object has no attribute 'children'"
     ],
     "ename": "AttributeError",
     "evalue": "'re.Pattern' object has no attribute 'children'",
     "output_type": "error"
    }
   ],
   "source": [
    "pattern.children[0].value"
   ]
  },
  {
   "cell_type": "code",
   "execution_count": null,
   "metadata": {
    "pycharm": {
     "is_executing": false
    },
    "tags": []
   },
   "outputs": [],
   "source": [
    "for repo in REPOS:\n",
    "    for path in Path(repo).rglob('*.sc'):\n",
    "        if not (path.name in TECHNICAL_SCENARIOS or \n",
    "                path.name.startswith((\"_require\", \"_specRequire\")) or \n",
    "                TECHNICAL_DIRS.intersection(set(path.parents[0].parts))):\n",
    "            with open(path, \"r\") as f:\n",
    "                sc = f.read()\n",
    "                tree = scparser.parse(sc)\n",
    "                scripts = [get_script(x) for x in list(tree.find_data(\"script\"))]\n",
    "                for script in scripts:\n",
    "                    script_tree = jsparser.parse(script, on_error = lambda error: error.puppet.parser_state.value_stack)\n",
    "#                 for pattern in tree.find_data(\"qpattern\"):\n",
    "#                     pattern_tree = patternparser.parse(pattern.children[0].value)"
   ]
  },
  {
   "cell_type": "code",
   "execution_count": null,
   "metadata": {
    "pycharm": {
     "is_executing": false
    }
   },
   "outputs": [],
   "source": [
    "print(tree.pretty())"
   ]
  },
  {
   "cell_type": "code",
   "execution_count": null,
   "metadata": {
    "pycharm": {
     "is_executing": false
    }
   },
   "outputs": [],
   "source": [
    "print(script_tree.pretty())"
   ]
  }
 ],
 "metadata": {
  "kernelspec": {
   "display_name": "Python 3",
   "language": "python",
   "name": "python3"
  },
  "language_info": {
   "codemirror_mode": {
    "name": "ipython",
    "version": 3
   },
   "file_extension": ".py",
   "mimetype": "text/x-python",
   "name": "python",
   "nbconvert_exporter": "python",
   "pygments_lexer": "ipython3",
   "version": "3.7.3"
  },
  "pycharm": {
   "stem_cell": {
    "cell_type": "raw",
    "source": [],
    "metadata": {
     "collapsed": false
    }
   }
  }
 },
 "nbformat": 4,
 "nbformat_minor": 5
}